{
 "cells": [
  {
   "cell_type": "code",
   "execution_count": 1,
   "metadata": {},
   "outputs": [],
   "source": [
    "import pandas as pd\n",
    "import numpy as np\n",
    "from sklearn import preprocessing\n",
    "import datetime as dt\n",
    "from urllib.parse import urlparse"
   ]
  },
  {
   "cell_type": "code",
   "execution_count": 2,
   "metadata": {},
   "outputs": [],
   "source": [
    "csv_path = \"finalEncodedData.csv\"\n",
    "raw_df = pd.read_csv(csv_path,dtype={'fullVisitorId': 'str'})"
   ]
  },
  {
   "cell_type": "code",
   "execution_count": null,
   "metadata": {},
   "outputs": [],
   "source": [
    "excludeList = ['date_year','date_month','date_day','visitStartTime_year','visitStartTime_month','visitStartTime_day','isEntryExitSame','visitStartTime_hour']\n",
    "train_columns = raw_df.columns.values.tolist()\n",
    "final_columns = []\n",
    "for column in train_columns:\n",
    "    if column not in excludeList:\n",
    "        final_columns.append(column)\n",
    "final_columns.append(\"date\")\n",
    "final_columns.append(\"visitStartTime\")"
   ]
  },
  {
   "cell_type": "code",
   "execution_count": 129,
   "metadata": {},
   "outputs": [],
   "source": [
    "#for sheet 0 - solve inconsistent columns\n",
    "i = 0\n",
    "test_csv_path = \"flatten_test_\"+str(i)+\".csv\"\n",
    "test_raw_df = pd.read_csv(test_csv_path,dtype={'fullVisitorId': 'str'})\n",
    "test_raw_df[\"hits_latencyTracking.serverConnectionTime\"] = np.nan\n",
    "test_raw_df[\"hits_latencyTracking.domainLookupTime\"] = np.nan\n",
    "test_raw_df[\"hits_latencyTracking.redirectionTime\"] = np.nan\n",
    "test_df = test_raw_df[final_columns]\n",
    "test_df.to_csv(\"correctColumns_\"+str(i)+\".csv\",index=False)"
   ]
  },
  {
   "cell_type": "code",
   "execution_count": 195,
   "metadata": {},
   "outputs": [],
   "source": [
    "#for sheet 1,2,3,7,11,12,14,15 - solve inconsistent columns\n",
    "sheets = [1,2,3,7,11,12,14,15]\n",
    "for i in sheets:\n",
    "    test_csv_path = \"flatten_test_\"+str(i)+\".csv\"\n",
    "    test_raw_df = pd.read_csv(test_csv_path,dtype={'fullVisitorId': 'str'})\n",
    "    test_df = test_raw_df[final_columns]\n",
    "    test_df.to_csv(\"correctColumns_\"+str(i)+\".csv\",index=False)"
   ]
  },
  {
   "cell_type": "code",
   "execution_count": 145,
   "metadata": {},
   "outputs": [],
   "source": [
    "#for sheet 4 - solve inconsistent columns\n",
    "i = 4\n",
    "test_csv_path = \"flatten_test_\"+str(i)+\".csv\"\n",
    "test_raw_df = pd.read_csv(test_csv_path,dtype={'fullVisitorId': 'str'})\n",
    "test_raw_df['hits_eCommerceAction.option'] = np.nan\n",
    "test_raw_df[\"hits_latencyTracking.redirectionTime\"] = np.nan\n",
    "test_df = test_raw_df[final_columns]\n",
    "test_df.to_csv(\"correctColumns_\"+str(i)+\".csv\",index=False)"
   ]
  },
  {
   "cell_type": "code",
   "execution_count": 150,
   "metadata": {},
   "outputs": [],
   "source": [
    "#for sheet 5 - solve inconsistent columns\n",
    "i = 5\n",
    "test_csv_path = \"flatten_test_\"+str(i)+\".csv\"\n",
    "test_raw_df = pd.read_csv(test_csv_path,dtype={'fullVisitorId': 'str'})\n",
    "test_raw_df[\"hits_latencyTracking.domainLookupTime\"] = np.nan\n",
    "test_df = test_raw_df[final_columns]\n",
    "test_df.to_csv(\"correctColumns_\"+str(i)+\".csv\",index=False)"
   ]
  },
  {
   "cell_type": "code",
   "execution_count": 155,
   "metadata": {},
   "outputs": [],
   "source": [
    "#for sheet 6 - solve inconsistent columns\n",
    "i = 6\n",
    "test_csv_path = \"flatten_test_\"+str(i)+\".csv\"\n",
    "test_raw_df = pd.read_csv(test_csv_path,dtype={'fullVisitorId': 'str'})\n",
    "test_raw_df[\"hits_latencyTracking.serverConnectionTime\"] = np.nan\n",
    "test_df.to_csv(\"correctColumns_\"+str(i)+\".csv\",index=False)"
   ]
  },
  {
   "cell_type": "code",
   "execution_count": 164,
   "metadata": {},
   "outputs": [],
   "source": [
    "#for sheet 8 - solve inconsistent columns\n",
    "i = 8\n",
    "test_csv_path = \"flatten_test_\"+str(i)+\".csv\"\n",
    "test_raw_df = pd.read_csv(test_csv_path,dtype={'fullVisitorId': 'str'})\n",
    "test_raw_df[\"hits_latencyTracking.serverConnectionTime\"] = np.nan\n",
    "test_raw_df[\"hits_latencyTracking.domainLookupTime\"] = np.nan\n",
    "test_df = test_raw_df[final_columns]\n",
    "test_df.to_csv(\"correctColumns_\"+str(i)+\".csv\",index=False)"
   ]
  },
  {
   "cell_type": "code",
   "execution_count": 169,
   "metadata": {},
   "outputs": [],
   "source": [
    "#for sheet 9 - solve inconsistent columns\n",
    "i = 9\n",
    "test_csv_path = \"flatten_test_\"+str(i)+\".csv\"\n",
    "test_raw_df = pd.read_csv(test_csv_path,dtype={'fullVisitorId': 'str'})\n",
    "test_raw_df[\"hits_latencyTracking.serverConnectionTime\"] = np.nan\n",
    "test_raw_df[\"hits_latencyTracking.domainLookupTime\"] = np.nan\n",
    "test_raw_df[\"hits_latencyTracking.redirectionTime\"] = np.nan\n",
    "test_raw_df[\"hits_latencyTracking.serverResponseTime\"] = np.nan\n",
    "test_df = test_raw_df[final_columns]\n",
    "test_df.to_csv(\"correctColumns_\"+str(i)+\".csv\",index=False)"
   ]
  },
  {
   "cell_type": "code",
   "execution_count": 187,
   "metadata": {},
   "outputs": [],
   "source": [
    "#for sheet 10,13 - solve inconsistent columns\n",
    "sheets = [10,13]\n",
    "for i in sheets:\n",
    "    test_csv_path = \"flatten_test_\"+str(i)+\".csv\"\n",
    "    test_raw_df = pd.read_csv(test_csv_path,dtype={'fullVisitorId': 'str'})\n",
    "    test_raw_df['hits_eCommerceAction.option'] = np.nan\n",
    "    test_df = test_raw_df[final_columns]\n",
    "    test_df.to_csv(\"correctColumns_\"+str(i)+\".csv\",index=False)"
   ]
  },
  {
   "cell_type": "code",
   "execution_count": 196,
   "metadata": {},
   "outputs": [],
   "source": [
    "#check whether all chunks have same shape\n",
    "for i in range(0,16):\n",
    "    test_csv_path = \"correctColumns_\"+str(i)+\".csv\"\n",
    "    test_df = pd.read_csv(test_csv_path,dtype={'fullVisitorId': 'str'})\n",
    "    print(test_df.shape)"
   ]
  },
  {
   "cell_type": "code",
   "execution_count": null,
   "metadata": {},
   "outputs": [],
   "source": [
    "#function to handle NaN and mixed types\n",
    "def correctNanAndMixedTypes(test_df):\n",
    "    na_vals = ['unknown.unknown', '(not set)', 'not available in demo dataset',\n",
    "                   '(not provided)', '(none)', '<NA>']\n",
    "\n",
    "    test_df = test_df.replace(na_vals, np.nan, regex=True)\n",
    "    for column in test_df.columns:\n",
    "        if test_df[column].dtype == np.int64 : \n",
    "            test_df[column].fillna(0, inplace=True)\n",
    "        elif test_df[column].dtype == np.float64 : \n",
    "            test_df[column].fillna(0.0, inplace=True)\n",
    "        elif test_df[column].dtype == np.bool : \n",
    "            test_df[column].fillna(False, inplace=True)\n",
    "        else:\n",
    "            test_df[column].fillna(\"Unknown\", inplace=True)\n",
    "    #replace USD with nan and fill nan for visitNumber field\n",
    "    na_vals = ['USD']\n",
    "    test_df.visitNumber.replace(na_vals, np.nan, inplace=True)\n",
    "    test_df.visitNumber.fillna(0, inplace=True)\n",
    "    #replace No with nan and fill nan for date field\n",
    "    na_vals = ['No']\n",
    "    test_df.date.replace(na_vals, np.nan, inplace=True)\n",
    "    test_df.date.fillna(\"Unknown\", inplace=True)\n",
    "    #read them in read_csv\n",
    "    mixedColumnsToNumeric = ['visitNumber']\n",
    "    for column in mixedColumnsToNumeric:\n",
    "        test_df[column] = pd.to_numeric(test_df[column])\n",
    "    save_csv_path = \"noMixed_part_\"+str(i)+\".csv\"\n",
    "    test_df.to_csv(save_csv_path,index=False)"
   ]
  },
  {
   "cell_type": "code",
   "execution_count": null,
   "metadata": {},
   "outputs": [],
   "source": [
    "for i in range(0,16):\n",
    "    test_csv_path = \"correctColumns_\"+str(i)+\".csv\"\n",
    "    test_df = pd.read_csv(test_csv_path,dtype={'fullVisitorId': 'str'})\n",
    "    correctNanAndMixedTypes(test_df)"
   ]
  },
  {
   "cell_type": "code",
   "execution_count": null,
   "metadata": {},
   "outputs": [],
   "source": [
    "#concatenate chunks into single part\n",
    "concat_df = pd.read_csv(\"noMixed_part_\"+str(0)+\".csv\",\n",
    "                           dtype={'fullVisitorId': 'str',\n",
    "                                  'date':'str',\n",
    "                                  'visitStartTime':'str',\n",
    "                                  'device_isMobile':'str',\n",
    "                                  'hits_exceptionInfo.isFatal':'str',\n",
    "                                  'hits_isInteraction':'str',\n",
    "                                  'hits_isEntrance':'str',\n",
    "                                  'hits_isExit':'str'\n",
    "                                 })\n",
    "for i in range(1,16):\n",
    "    test_df = pd.read_csv(\"noMixed_part_\"+str(i)+\".csv\",\n",
    "                           dtype={'fullVisitorId': 'str',\n",
    "                                  'date':'str',\n",
    "                                  'visitStartTime':'str',\n",
    "                                  'device_isMobile':'str',\n",
    "                                  'hits_exceptionInfo.isFatal':'str',\n",
    "                                  'hits_isInteraction':'str',\n",
    "                                  'hits_isEntrance':'str',\n",
    "                                  'hits_isExit':'str'\n",
    "                                 })\n",
    "    concat_df = pd.concat([concat_df, test_df], ignore_index=True)\n",
    "concat_df.to_csv(\"wholeTest.csv\",index=False)"
   ]
  },
  {
   "cell_type": "code",
   "execution_count": null,
   "metadata": {},
   "outputs": [],
   "source": [
    "df = pd.read_csv(\"wholeTest.csv\",\n",
    "                           dtype={'fullVisitorId': 'str',\n",
    "                                  'date':'str',\n",
    "                                  'visitStartTime':'str',\n",
    "                                  'device_isMobile':'str',\n",
    "                                  'hits_exceptionInfo.isFatal':'str',\n",
    "                                  'hits_isInteraction':'str',\n",
    "                                  'hits_isEntrance':'str',\n",
    "                                  'hits_isExit':'str',\n",
    "                                  'hits_eCommerceAction.option':'str'\n",
    "                                 })"
   ]
  },
  {
   "cell_type": "code",
   "execution_count": null,
   "metadata": {},
   "outputs": [],
   "source": [
    "def correctOption(value):\n",
    "    if value == '0.0':\n",
    "        return 'Unknown'\n",
    "    else:\n",
    "        return value"
   ]
  },
  {
   "cell_type": "code",
   "execution_count": null,
   "metadata": {},
   "outputs": [],
   "source": [
    "#correct mixed types in hits_eCommerceAction.option\n",
    "df['hits_eCommerceAction.option'] = df['hits_eCommerceAction.option'].apply(correctOption)\n",
    "df.to_csv(\"whole_corrected.csv\",index=False)"
   ]
  },
  {
   "cell_type": "code",
   "execution_count": 197,
   "metadata": {},
   "outputs": [
    {
     "data": {
      "text/plain": [
       "(25099, 71)"
      ]
     },
     "execution_count": 197,
     "metadata": {},
     "output_type": "execute_result"
    }
   ],
   "source": [
    "#function to encode category columns\n",
    "def preprocess(X,labelColumn,nonCategoryColumns):\n",
    "        nonNullData = X\n",
    "        dataWithoutClass = nonNullData.iloc[:,nonNullData.columns != labelColumn ]\n",
    "        classDf = nonNullData.iloc[:, nonNullData.columns==labelColumn]       \n",
    "        \n",
    "        stringColumnsIncl = dataWithoutClass.select_dtypes(exclude=['number','bool']).columns \n",
    "        stringColumns = []\n",
    "        for column in stringColumnsIncl:\n",
    "            if column not in nonCategoryColumns:\n",
    "                stringColumns.append(column)\n",
    "        numericColumns = dataWithoutClass.select_dtypes(include=['number','bool']).columns  \n",
    "        labeledData = nonNullData\n",
    "        labeledDataWithoutClass = dataWithoutClass\n",
    "       \n",
    "        if(len(stringColumns)!=0):\n",
    "            if(len(stringColumns)==len(dataWithoutClass.columns)):                \n",
    "                labeledDataWithoutClass = dataWithoutClass.apply(preprocessing.LabelEncoder().fit_transform)\n",
    "            else:\n",
    "                labeledDataWithoutClass = pd.concat([dataWithoutClass[numericColumns],dataWithoutClass[nonCategoryColumns],dataWithoutClass[stringColumns].apply(preprocessing.LabelEncoder().fit_transform)],axis=1)\n",
    "        \n",
    "   \n",
    "        labeledData = pd.concat([labeledDataWithoutClass,nonNullData.iloc[:, nonNullData.columns==labelColumn]],axis=1)\n",
    "        \n",
    "        return labeledData"
   ]
  },
  {
   "cell_type": "code",
   "execution_count": null,
   "metadata": {},
   "outputs": [],
   "source": [
    "#encode category columns\n",
    "test_df = pd.read_csv(\"whole_corrected.csv\",\n",
    "                           dtype={'fullVisitorId': 'str',\n",
    "                                  'date':'str',\n",
    "                                  'visitStartTime':'str',\n",
    "                                  'device_isMobile':'str',\n",
    "                                  'hits_exceptionInfo.isFatal':'str',\n",
    "                                  'hits_isInteraction':'str',\n",
    "                                  'hits_isEntrance':'str',\n",
    "                                  'hits_isExit':'str'\n",
    "                                 })\n",
    "labelColumn = \"totals_transactionRevenue\"\n",
    "nonCategoryColumns = [\"date\",\"fullVisitorId\",\"geoNetwork_networkDomain\",\"hits_appInfo.exitScreenName\",\"hits_appInfo.landingScreenName\",\"hits_eventInfo.eventLabel\",\"hits_page.pageTitle\",\"hits_referer\",\"trafficSource_adContent\",\"trafficSource_campaign\",\"trafficSource_keyword\",\"visitStartTime\"]\n",
    "test_df = preprocess(test_df,labelColumn,nonCategoryColumns)"
   ]
  },
  {
   "cell_type": "code",
   "execution_count": null,
   "metadata": {},
   "outputs": [],
   "source": [
    "#process date field\n",
    "\n",
    "def processDate(date):\n",
    "    if date.lower() == 'unknown':\n",
    "        return dt.datetime.now()\n",
    "    else:\n",
    "        return dt.datetime.strptime(str(date), '%Y%m%d')\n",
    "test_df[\"date_datetime\"] = test_df['date'].apply(processDate)\n",
    "test_df = test_df.dropna()\n",
    "test_df['date_year'] = test_df['date_datetime'].dt.year\n",
    "test_df['date_month'] = test_df['date_datetime'].dt.month\n",
    "test_df['date_day'] = test_df['date_datetime'].dt.day"
   ]
  },
  {
   "cell_type": "code",
   "execution_count": null,
   "metadata": {},
   "outputs": [],
   "source": [
    "#process visitStartTime field\n",
    "\n",
    "def convertPosixToDate(epoch):   \n",
    "    if(epoch.isdigit()):\n",
    "        return dt.datetime.utcfromtimestamp(int(epoch))\n",
    "    else:\n",
    "        return np.nan\n",
    "    \n",
    "def categorizeHour(hour):\n",
    "    if hour >= 0.0 and hour < 4.0:\n",
    "        return \"midnight\"\n",
    "    if hour >= 4.0 and hour < 6.0:\n",
    "        return \"earlyMorning\"\n",
    "    if hour >= 6.0 and hour < 12.0:\n",
    "        return \"morning\"\n",
    "    if hour >= 12.0 and hour < 16.0:\n",
    "        return \"afternoon\"\n",
    "    if hour >= 16.0 and hour < 19.0:\n",
    "        return \"evening\"\n",
    "    if hour >= 19.0 and hour < 0.0:\n",
    "        return \"night\"\n",
    "\n",
    "test_df['visitStartTime_date'] = test_df['visitStartTime'].apply(convertPosixToDate)\n",
    "test_df = test_df.dropna()\n",
    "test_df['visitStartTime_year'] = test_df['visitStartTime_date'].dt.year\n",
    "test_df['visitStartTime_month'] = test_df['visitStartTime_date'].dt.month\n",
    "test_df['visitStartTime_day'] = test_df['visitStartTime_date'].dt.day\n",
    "test_df['visitStartTime_hour'] = test_df['visitStartTime_date'].dt.hour\n",
    "\n",
    "\n",
    "    \n",
    "test_df[\"visitStartTime_hour\"] = test_df['visitStartTime_hour'].apply(categorizeHour)"
   ]
  },
  {
   "cell_type": "code",
   "execution_count": null,
   "metadata": {},
   "outputs": [],
   "source": [
    "#drop the date columns that we processed\n",
    "columnsToDrop = [\"visitStartTime\",\"visitStartTime_date\",\"date\",\"date_datetime\"]\n",
    "test_df = test_df.drop(columnsToDrop,axis = 1)"
   ]
  },
  {
   "cell_type": "code",
   "execution_count": null,
   "metadata": {},
   "outputs": [],
   "source": [
    "#we are interested only in the host name\n",
    "def hostName(url):\n",
    "    return urlparse(url).hostname\n",
    "test_df['hits_referer'] = test_df['hits_referer'].apply(hostName)"
   ]
  },
  {
   "cell_type": "code",
   "execution_count": null,
   "metadata": {},
   "outputs": [],
   "source": [
    "#check whether the landing page is the same as exit page\n",
    "test_df[\"isEntryExitSame\"] = test_df[\"hits_appInfo.landingScreenName\"] == test_df[\"hits_appInfo.exitScreenName\"]"
   ]
  },
  {
   "cell_type": "code",
   "execution_count": null,
   "metadata": {},
   "outputs": [],
   "source": [
    "for column in test_df.columns:\n",
    "    if test_df[column].dtype == np.int64 : \n",
    "        test_df[column].fillna(0, inplace=False)\n",
    "    elif test_df[column].dtype == np.float64 : \n",
    "        test_df[column].fillna(0.0, inplace=False)\n",
    "    elif test_df[column].dtype == np.bool : \n",
    "        test_df[column].fillna(False, inplace=False)\n",
    "    else:\n",
    "        test_df[column].fillna(\"Unknown\", inplace=True)"
   ]
  },
  {
   "cell_type": "code",
   "execution_count": null,
   "metadata": {},
   "outputs": [],
   "source": [
    "#encode category data\n",
    "labelColumn = \"totals_transactionRevenue\"\n",
    "nonCategoryColumns = [\"fullVisitorId\"]\n",
    "label_df = preprocess(test_df,labelColumn,nonCategoryColumns)\n",
    "label_df.to_csv(\"finalEncodedTestData.csv\",index=False)"
   ]
  }
 ],
 "metadata": {
  "kernelspec": {
   "display_name": "Python 3",
   "language": "python",
   "name": "python3"
  },
  "language_info": {
   "codemirror_mode": {
    "name": "ipython",
    "version": 3
   },
   "file_extension": ".py",
   "mimetype": "text/x-python",
   "name": "python",
   "nbconvert_exporter": "python",
   "pygments_lexer": "ipython3",
   "version": "3.6.4"
  }
 },
 "nbformat": 4,
 "nbformat_minor": 2
}
