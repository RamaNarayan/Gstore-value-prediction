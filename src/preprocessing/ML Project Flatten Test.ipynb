{
 "cells": [
  {
   "cell_type": "code",
   "execution_count": null,
   "metadata": {},
   "outputs": [],
   "source": [
    "#import required libraries\n",
    "import pandas as pd\n",
    "import numpy as np\n",
    "#read a column as list instead of string\n",
    "from ast import literal_eval\n",
    "from pandas.io.json import json_normalize\n",
    "import json"
   ]
  },
  {
   "cell_type": "code",
   "execution_count": null,
   "metadata": {},
   "outputs": [],
   "source": [
    "#split file into 16 chunks\n",
    "in_pd = pd.read_csv(\"test_v2.csv\", dtype={'fullVisitorId': 'str'})\n",
    "k = 0\n",
    "count = 0\n",
    "for i in range(int(in_pd.shape[0]/16), in_pd.shape[0] + int(in_pd.shape[0]/16) , int(in_pd.shape[0]/16)):\n",
    "    x = in_pd[k:i]\n",
    "    x.to_csv(\"test_part_\"+str(count)+\".csv\", index = False)\n",
    "    k = i\n",
    "    count = count + 1"
   ]
  },
  {
   "cell_type": "code",
   "execution_count": null,
   "metadata": {},
   "outputs": [],
   "source": [
    "#parse json data\n",
    "def jsonParser(data):\n",
    "    return json.loads(data)"
   ]
  },
  {
   "cell_type": "code",
   "execution_count": null,
   "metadata": {},
   "outputs": [],
   "source": [
    "#function to flatten json\n",
    "def json_flatten(df,column):\n",
    "    column_flatten = df[column].apply(pd.Series)\n",
    "    column_flatten = column_flatten.add_prefix(column+\"_\")\n",
    "    df = pd.concat([df.drop([column], axis=1), column_flatten], axis=1)\n",
    "    return df"
   ]
  },
  {
   "cell_type": "code",
   "execution_count": null,
   "metadata": {},
   "outputs": [],
   "source": [
    "for fileNumber in range(16):\n",
    "    read_csv_path = \"test_part_\"+str(fileNumber)+\".csv\"\n",
    "    raw_data = pd.read_csv(read_csv_path,dtype={'fullVisitorId': 'str'},\n",
    "                           converters={\"hits\": literal_eval,\"customDimensions\":literal_eval,\"device\":jsonParser,\"geoNetwork\":jsonParser,\"totals\":jsonParser,\"trafficSource\":jsonParser})\n",
    "\n",
    "    #flatten json column data and concatenate back\n",
    "    json_columns = [\"device\",\"trafficSource\",\"geoNetwork\",\"totals\"]\n",
    "    json_flatten_data = raw_data\n",
    "    for column in json_columns:\n",
    "        raw_data = json_flatten(raw_data,column)\n",
    "\n",
    "    #flatten nested json columns in adwordsClickInfo\n",
    "    raw_data = json_flatten(raw_data,'trafficSource_adwordsClickInfo')\n",
    "\n",
    "    #make empty list as None,None\n",
    "    raw_data[\"customDimensions\"] = raw_data[\"customDimensions\"].apply(lambda y: [{'index': None, 'value': None}] if len(y)==0 else y)\n",
    "\n",
    "    #flatten custom dimensions\n",
    "    column = \"customDimensions\"\n",
    "    column_as_df = json_normalize(raw_data[column].str[0])\n",
    "    column_as_df = column_as_df.add_prefix(column+'_')\n",
    "    raw_data = raw_data.drop(column, axis=1).merge(column_as_df, right_index=True, left_index=True)\n",
    "\n",
    "    #make empty list as None\n",
    "    raw_data[\"hits\"] = raw_data[\"hits\"].apply(lambda y: [{'hitNumber': None}] if len(y)==0 else y)\n",
    "\n",
    "    #flatten hits\n",
    "    column = \"hits\"\n",
    "    column_as_df = json_normalize(raw_data[column].str[0])\n",
    "    column_as_df = column_as_df.add_prefix(column+'_')\n",
    "    raw_data = raw_data.drop(column, axis=1).merge(column_as_df, right_index=True, left_index=True)\n",
    "\n",
    "    #check json blobs still present.\n",
    "    jsonlist=[]\n",
    "    for i in range(len(raw_data.columns)):\n",
    "        if (isinstance(raw_data.iloc[1,i], list) ):\n",
    "            jsonlist.append( raw_data.columns[i] )\n",
    "\n",
    "\n",
    "    #remove the json blobs present after flattening hits\n",
    "    flatten_data = raw_data.drop(jsonlist,axis=1)\n",
    "\n",
    "    save_csv_path = \"flatten_test_\"+str(fileNumber)+\".csv\"\n",
    "    flatten_data.to_csv(save_csv_path,index = False)\n",
    "    "
   ]
  }
 ],
 "metadata": {
  "kernelspec": {
   "display_name": "Python 3",
   "language": "python",
   "name": "python3"
  },
  "language_info": {
   "codemirror_mode": {
    "name": "ipython",
    "version": 3
   },
   "file_extension": ".py",
   "mimetype": "text/x-python",
   "name": "python",
   "nbconvert_exporter": "python",
   "pygments_lexer": "ipython3",
   "version": "3.6.4"
  }
 },
 "nbformat": 4,
 "nbformat_minor": 2
}
